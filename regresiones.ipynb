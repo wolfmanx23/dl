{
    "nbformat_minor": 2, 
    "cells": [
        {
            "source": " <a href=\"https://www.bigdatauniversity.com\"><img src = \"https://ibm.box.com/shared/static/ugcqz6ohbvff804xp84y4kqnvvk3bq1g.png\" width = 300, align = \"center\"></a>\n\n<h1 align=center><font size = 5>Data Analysis with Python</font></h1>", 
            "cell_type": "markdown", 
            "metadata": {}
        }, 
        {
            "source": "#### Recommended, Python for Data Science click to start course:\n  \n  <a href=\"http://cocl.us/DA0101ENtoPY0101EN\"><img src = \"https://ibm.box.com/shared/static/jmtb4pgle2dsdlzfmyrgv755cnqw95wk.png\" width = 300, align = \"center\"></a>", 
            "cell_type": "markdown", 
            "metadata": {}
        }, 
        {
            "source": "# Module 4: Model Development", 
            "cell_type": "markdown", 
            "metadata": {}
        }, 
        {
            "source": "In this section, we will develop several models that will predict the price of the car using the variables or features. This is just an estimate but should give us an objective idea of how much the car should cost.", 
            "cell_type": "markdown", 
            "metadata": {}
        }, 
        {
            "source": "Some questions we want to ask in this module\n- How do I know if the dealer is offering fair value for my trade-in? \n- How do I know if I put a fair value on my car?\nIn Data Analytics, we often use **Model Development** to help us predict future observations from the data we have. \n\nA Model will help us understand the exact relationship between different variables and how these variables are used to predict the result.", 
            "cell_type": "markdown", 
            "metadata": {}
        }, 
        {
            "source": "#### Setup", 
            "cell_type": "markdown", 
            "metadata": {}
        }, 
        {
            "source": " Import libraries", 
            "cell_type": "markdown", 
            "metadata": {}
        }, 
        {
            "source": "import pandas as pd\nimport numpy as np\nimport matplotlib.pyplot as plt", 
            "cell_type": "code", 
            "metadata": {}, 
            "outputs": [], 
            "execution_count": 1
        }, 
        {
            "source": "load data and store in dataframe df:", 
            "cell_type": "markdown", 
            "metadata": {}
        }, 
        {
            "source": "# path of data \npath = 'https://ibm.box.com/shared/static/q6iiqb1pd7wo8r3q28jvgsrprzezjqk3.csv'\ndf = pd.read_csv(path)\ndf.head()", 
            "cell_type": "code", 
            "metadata": {}, 
            "outputs": [
                {
                    "output_type": "execute_result", 
                    "data": {
                        "text/html": "<div>\n<style scoped>\n    .dataframe tbody tr th:only-of-type {\n        vertical-align: middle;\n    }\n\n    .dataframe tbody tr th {\n        vertical-align: top;\n    }\n\n    .dataframe thead th {\n        text-align: right;\n    }\n</style>\n<table border=\"1\" class=\"dataframe\">\n  <thead>\n    <tr style=\"text-align: right;\">\n      <th></th>\n      <th>Unnamed: 0</th>\n      <th>symboling</th>\n      <th>normalized-losses</th>\n      <th>make</th>\n      <th>aspiration</th>\n      <th>num-of-doors</th>\n      <th>body-style</th>\n      <th>drive-wheels</th>\n      <th>engine-location</th>\n      <th>wheel-base</th>\n      <th>...</th>\n      <th>compression-ratio</th>\n      <th>horsepower</th>\n      <th>peak-rpm</th>\n      <th>city-mpg</th>\n      <th>highway-mpg</th>\n      <th>price</th>\n      <th>city-L/100km</th>\n      <th>horsepower-binned</th>\n      <th>diesel</th>\n      <th>gas</th>\n    </tr>\n  </thead>\n  <tbody>\n    <tr>\n      <th>0</th>\n      <td>0</td>\n      <td>3</td>\n      <td>122</td>\n      <td>alfa-romero</td>\n      <td>std</td>\n      <td>two</td>\n      <td>convertible</td>\n      <td>rwd</td>\n      <td>front</td>\n      <td>88.6</td>\n      <td>...</td>\n      <td>9.0</td>\n      <td>111.0</td>\n      <td>5000.0</td>\n      <td>21</td>\n      <td>27</td>\n      <td>13495.0</td>\n      <td>11.190476</td>\n      <td>Medium</td>\n      <td>0</td>\n      <td>1</td>\n    </tr>\n    <tr>\n      <th>1</th>\n      <td>1</td>\n      <td>3</td>\n      <td>122</td>\n      <td>alfa-romero</td>\n      <td>std</td>\n      <td>two</td>\n      <td>convertible</td>\n      <td>rwd</td>\n      <td>front</td>\n      <td>88.6</td>\n      <td>...</td>\n      <td>9.0</td>\n      <td>111.0</td>\n      <td>5000.0</td>\n      <td>21</td>\n      <td>27</td>\n      <td>16500.0</td>\n      <td>11.190476</td>\n      <td>Medium</td>\n      <td>0</td>\n      <td>1</td>\n    </tr>\n    <tr>\n      <th>2</th>\n      <td>2</td>\n      <td>1</td>\n      <td>122</td>\n      <td>alfa-romero</td>\n      <td>std</td>\n      <td>two</td>\n      <td>hatchback</td>\n      <td>rwd</td>\n      <td>front</td>\n      <td>94.5</td>\n      <td>...</td>\n      <td>9.0</td>\n      <td>154.0</td>\n      <td>5000.0</td>\n      <td>19</td>\n      <td>26</td>\n      <td>16500.0</td>\n      <td>12.368421</td>\n      <td>Medium</td>\n      <td>0</td>\n      <td>1</td>\n    </tr>\n    <tr>\n      <th>3</th>\n      <td>3</td>\n      <td>2</td>\n      <td>164</td>\n      <td>audi</td>\n      <td>std</td>\n      <td>four</td>\n      <td>sedan</td>\n      <td>fwd</td>\n      <td>front</td>\n      <td>99.8</td>\n      <td>...</td>\n      <td>10.0</td>\n      <td>102.0</td>\n      <td>5500.0</td>\n      <td>24</td>\n      <td>30</td>\n      <td>13950.0</td>\n      <td>9.791667</td>\n      <td>Medium</td>\n      <td>0</td>\n      <td>1</td>\n    </tr>\n    <tr>\n      <th>4</th>\n      <td>4</td>\n      <td>2</td>\n      <td>164</td>\n      <td>audi</td>\n      <td>std</td>\n      <td>four</td>\n      <td>sedan</td>\n      <td>4wd</td>\n      <td>front</td>\n      <td>99.4</td>\n      <td>...</td>\n      <td>8.0</td>\n      <td>115.0</td>\n      <td>5500.0</td>\n      <td>18</td>\n      <td>22</td>\n      <td>17450.0</td>\n      <td>13.055556</td>\n      <td>Medium</td>\n      <td>0</td>\n      <td>1</td>\n    </tr>\n  </tbody>\n</table>\n<p>5 rows \u00d7 30 columns</p>\n</div>", 
                        "text/plain": "   Unnamed: 0  symboling  normalized-losses         make aspiration  \\\n0           0          3                122  alfa-romero        std   \n1           1          3                122  alfa-romero        std   \n2           2          1                122  alfa-romero        std   \n3           3          2                164         audi        std   \n4           4          2                164         audi        std   \n\n  num-of-doors   body-style drive-wheels engine-location  wheel-base ...   \\\n0          two  convertible          rwd           front        88.6 ...    \n1          two  convertible          rwd           front        88.6 ...    \n2          two    hatchback          rwd           front        94.5 ...    \n3         four        sedan          fwd           front        99.8 ...    \n4         four        sedan          4wd           front        99.4 ...    \n\n   compression-ratio  horsepower  peak-rpm  city-mpg highway-mpg    price  \\\n0                9.0       111.0    5000.0        21          27  13495.0   \n1                9.0       111.0    5000.0        21          27  16500.0   \n2                9.0       154.0    5000.0        19          26  16500.0   \n3               10.0       102.0    5500.0        24          30  13950.0   \n4                8.0       115.0    5500.0        18          22  17450.0   \n\n   city-L/100km horsepower-binned  diesel  gas  \n0     11.190476            Medium       0    1  \n1     11.190476            Medium       0    1  \n2     12.368421            Medium       0    1  \n3      9.791667            Medium       0    1  \n4     13.055556            Medium       0    1  \n\n[5 rows x 30 columns]"
                    }, 
                    "execution_count": 2, 
                    "metadata": {}
                }
            ], 
            "execution_count": 2
        }, 
        {
            "source": "### 1. Linear Regression and Multiple Linear Regression ", 
            "cell_type": "markdown", 
            "metadata": {}
        }, 
        {
            "source": "####  Linear Regression", 
            "cell_type": "markdown", 
            "metadata": {}
        }, 
        {
            "source": "\nOne example of a Data  Model that we will be using is \n **Simple Linear Regression**.\nSimple Linear Regression is a method to help us understand the relationship between two variables:\n- The predictor/independent variable (X)\n- The response/dependent variable (that we want to predict)(Y)\n\n\nThe result of Linear Regression is a **linear function** that predicts the response (dependent) variable as a function of the predictor (independent) variable. \n\n", 
            "cell_type": "markdown", 
            "metadata": {}
        }, 
        {
            "source": "\\begin{equation*}\n Y: Response \\ Variable\\\\\n X :Predictor\\ Variables\n\\end{equation*}\n", 
            "cell_type": "markdown", 
            "metadata": {}
        }, 
        {
            "source": " **Linear function:**\n\\begin{equation*}\nYhat = a + b  X\n\\end{equation*}\n", 
            "cell_type": "markdown", 
            "metadata": {}
        }, 
        {
            "source": "- a refers to the **intercept** of the regression, in other words: the value of Y when X is 0 \n- b refers to the **slope** of the regression line, in other words: the value with which Y changes when X increases by 1.\n\n\n\n", 
            "cell_type": "markdown", 
            "metadata": {}
        }, 
        {
            "source": "####  Lets load the modules for linear regression", 
            "cell_type": "markdown", 
            "metadata": {}
        }, 
        {
            "source": "from sklearn.linear_model import LinearRegression", 
            "cell_type": "code", 
            "metadata": {}, 
            "outputs": [], 
            "execution_count": 3
        }, 
        {
            "source": "#### Create the linear regression object", 
            "cell_type": "markdown", 
            "metadata": {}
        }, 
        {
            "source": "lm = LinearRegression()\nlm", 
            "cell_type": "code", 
            "metadata": {}, 
            "outputs": [
                {
                    "output_type": "execute_result", 
                    "data": {
                        "text/plain": "LinearRegression(copy_X=True, fit_intercept=True, n_jobs=1, normalize=False)"
                    }, 
                    "execution_count": 4, 
                    "metadata": {}
                }
            ], 
            "execution_count": 4
        }, 
        {
            "source": "#### How could Highway-mpg help us predict car price?", 
            "cell_type": "markdown", 
            "metadata": {}
        }, 
        {
            "source": "For this example, we want to look at how highway-mpg can help us predict car price.\nUsing simple linear regression, we will create a linear function with \"highway-mpg\" as the predictor variable and the \"price\" as the response variable.", 
            "cell_type": "markdown", 
            "metadata": {}
        }, 
        {
            "source": "X = df[['highway-mpg']]\nY = df['price']", 
            "cell_type": "code", 
            "metadata": {}, 
            "outputs": [], 
            "execution_count": 5
        }, 
        {
            "source": "Fit the linear model using highway-mpg.", 
            "cell_type": "markdown", 
            "metadata": {}
        }, 
        {
            "source": "lm.fit(X,Y)", 
            "cell_type": "code", 
            "metadata": {}, 
            "outputs": [
                {
                    "output_type": "execute_result", 
                    "data": {
                        "text/plain": "LinearRegression(copy_X=True, fit_intercept=True, n_jobs=1, normalize=False)"
                    }, 
                    "execution_count": 6, 
                    "metadata": {}
                }
            ], 
            "execution_count": 6
        }, 
        {
            "source": " We can output a prediction ", 
            "cell_type": "markdown", 
            "metadata": {}
        }, 
        {
            "source": "Yhat=lm.predict(X)\nYhat[0:5]   ", 
            "cell_type": "code", 
            "metadata": {}, 
            "outputs": [
                {
                    "output_type": "execute_result", 
                    "data": {
                        "text/plain": "array([ 16236.50464347,  16236.50464347,  17058.23802179,  13771.3045085 ,\n        20345.17153508])"
                    }, 
                    "execution_count": 7, 
                    "metadata": {}
                }
            ], 
            "execution_count": 7
        }, 
        {
            "source": "#### What is the value of the intercept (a) ?", 
            "cell_type": "markdown", 
            "metadata": {}
        }, 
        {
            "source": "lm.intercept_", 
            "cell_type": "code", 
            "metadata": {}, 
            "outputs": [
                {
                    "output_type": "execute_result", 
                    "data": {
                        "text/plain": "38423.305858157386"
                    }, 
                    "execution_count": 8, 
                    "metadata": {}
                }
            ], 
            "execution_count": 8
        }, 
        {
            "source": "#### What is the value of the Slope (b) ?", 
            "cell_type": "markdown", 
            "metadata": {}
        }, 
        {
            "source": "lm.coef_", 
            "cell_type": "code", 
            "metadata": {
                "scrolled": true
            }, 
            "outputs": [
                {
                    "output_type": "execute_result", 
                    "data": {
                        "text/plain": "array([-821.73337832])"
                    }, 
                    "execution_count": 9, 
                    "metadata": {}
                }
            ], 
            "execution_count": 9
        }, 
        {
            "source": "### What is the final estimated linear model we get?", 
            "cell_type": "markdown", 
            "metadata": {}
        }, 
        {
            "source": "As we saw above, we should get a final linear model with the structure:", 
            "cell_type": "markdown", 
            "metadata": {}
        }, 
        {
            "source": " \\begin{equation*}\nYhat = a + b  X\n\\end{equation*}", 
            "cell_type": "markdown", 
            "metadata": {}
        }, 
        {
            "source": "Plugging in the actual values we get:", 
            "cell_type": "markdown", 
            "metadata": {}
        }, 
        {
            "source": "**price** = 38423.31 - 821.73 x  **highway-mpg**", 
            "cell_type": "markdown", 
            "metadata": {}
        }, 
        {
            "source": " <div class=\"alert alert-danger alertdanger\" style=\"margin-top: 20px\">\n<h1> Question  #1a): </h1>\n\n<b>Create a linear regression object?</b>\n</div>", 
            "cell_type": "markdown", 
            "metadata": {}
        }, 
        {
            "source": "", 
            "cell_type": "code", 
            "metadata": {}, 
            "outputs": [], 
            "execution_count": null
        }, 
        {
            "source": "Double-click __here__ for the solution.\n\n<!-- Your answer is below:\n\nlm1 = LinearRegression()\nlm1 \n\n-->", 
            "cell_type": "markdown", 
            "metadata": {}
        }, 
        {
            "source": "<div class=\"alert alert-danger alertdanger\" style=\"margin-top: 20px\">\n<h1> Question  #1b): </h1>\n\n<b> Train the model using 'engine-size' as the independent variable and 'price' as the dependent variable?</b>\n</div>", 
            "cell_type": "markdown", 
            "metadata": {}
        }, 
        {
            "source": "", 
            "cell_type": "code", 
            "metadata": {}, 
            "outputs": [], 
            "execution_count": null
        }, 
        {
            "source": "Double-click __here__ for the solution.\n\n<!-- Your answer is below:\n\nlm1.fit(df[['highway-mpg']], df[['price']])\nlm1\n\n-->", 
            "cell_type": "markdown", 
            "metadata": {}
        }, 
        {
            "source": " <div class=\"alert alert-danger alertdanger\" style=\"margin-top: 20px\">\n<h1> Question  #1c): </h1>\n\n<b> Find the slope and intercept of the model?</b>\n</div>", 
            "cell_type": "markdown", 
            "metadata": {}
        }, 
        {
            "source": "#### Slope ", 
            "cell_type": "markdown", 
            "metadata": {}
        }, 
        {
            "source": "", 
            "cell_type": "code", 
            "metadata": {}, 
            "outputs": [], 
            "execution_count": null
        }, 
        {
            "source": "#### Intercept", 
            "cell_type": "markdown", 
            "metadata": {}
        }, 
        {
            "source": "\n", 
            "cell_type": "code", 
            "metadata": {}, 
            "outputs": [], 
            "execution_count": null
        }, 
        {
            "source": "Double-click __here__ for the solution.\n\n<!-- Your answer is below:\n\n# Slope \nlm1.coef_\n# Intercept\nlm1.intercept_\n\n-->", 
            "cell_type": "markdown", 
            "metadata": {}
        }, 
        {
            "source": "<div class=\"alert alert-danger alertdanger\" style=\"margin-top: 20px\">\n<h1> Question  #1d): </h1>\n\n<b> What is the equation of the predicted line. You can use x and yhat or ''engine-size'  or  'price'?</b>\n</div>", 
            "cell_type": "markdown", 
            "metadata": {}
        }, 
        {
            "source": "Double-click __here__ for the solution.\n\n<!-- Your answer is below:\n\n# using X and Y  \nYhat=38423.31-821.733*X\n\nPrice=38423.31-821.733*engine-size\n\n-->", 
            "cell_type": "markdown", 
            "metadata": {}
        }, 
        {
            "source": "####  Multiple Linear Regression", 
            "cell_type": "markdown", 
            "metadata": {}
        }, 
        {
            "source": " What if we want to predict car price using more than one variable? \n\nIf we want to use more variables in our model to predict car price, we can use **Multiple Linear Regression**.\nMultiple Linear Regression is very similar to Simple Linear Regression, but this method is used to explain the relationship between one continuous response (dependent) variable and *two or more* predictor (independent) variables.\nMost of the real-world regression models involve multiple predictors. We illustrate the structure by using four predictor variables, but these results can generalize to any integer :\n", 
            "cell_type": "markdown", 
            "metadata": {}
        }, 
        {
            "source": " \\begin{equation*}\nY: Response \\ Variable\\\\\nX_1 :Predictor\\ Variable \\ 1\\\\\nX_2: Predictor\\ Variable \\ 2\\\\\nX_3: Predictor\\ Variable \\ 3\\\\\nX_4: Predictor\\ Variable \\ 4\\\\\n\\end{equation*}\n", 
            "cell_type": "markdown", 
            "metadata": {}
        }, 
        {
            "source": " \\begin{equation*}\na: intercept\\\\\nb_1 :coefficients \\ of\\ Variable \\ 1\\\\\nb_2: coefficients \\ of\\ Variable \\ 2\\\\\nb_3: coefficients \\ of\\ Variable \\ 3\\\\\nb_4: coefficients \\ of\\ Variable \\ 4\\\\\n\\end{equation*}\n", 
            "cell_type": "markdown", 
            "metadata": {}
        }, 
        {
            "source": " The equation is given by ", 
            "cell_type": "markdown", 
            "metadata": {}
        }, 
        {
            "source": " \\begin{equation*}\nYhat = a + b_1 X_1 + b_2 X_2 + b_3 X_3 + b_4 X_4\n\\end{equation*}\n\n", 
            "cell_type": "markdown", 
            "metadata": {}
        }, 
        {
            "source": "From the previous section  we know that other good predictors of price could be: \n- Horsepower\n- Curb-weight\n- Engine-size\n- Highway-mpg\n\nLet's develop a model using these variables as the predictor variables.", 
            "cell_type": "markdown", 
            "metadata": {}
        }, 
        {
            "source": "Z = df[['horsepower', 'curb-weight', 'engine-size', 'highway-mpg']]", 
            "cell_type": "code", 
            "metadata": {}, 
            "outputs": [], 
            "execution_count": 10
        }, 
        {
            "source": "Fit the linear model using the four above-mentioned variables.", 
            "cell_type": "markdown", 
            "metadata": {}
        }, 
        {
            "source": " lm.fit(Z, df['price'])\n", 
            "cell_type": "code", 
            "metadata": {}, 
            "outputs": [
                {
                    "output_type": "execute_result", 
                    "data": {
                        "text/plain": "LinearRegression(copy_X=True, fit_intercept=True, n_jobs=1, normalize=False)"
                    }, 
                    "execution_count": 11, 
                    "metadata": {}
                }
            ], 
            "execution_count": 11
        }, 
        {
            "source": " What is the value of the intercept(a)?", 
            "cell_type": "markdown", 
            "metadata": {}
        }, 
        {
            "source": "lm.intercept_", 
            "cell_type": "code", 
            "metadata": {}, 
            "outputs": [
                {
                    "output_type": "execute_result", 
                    "data": {
                        "text/plain": "-15806.624626329194"
                    }, 
                    "execution_count": 12, 
                    "metadata": {}
                }
            ], 
            "execution_count": 12
        }, 
        {
            "source": " What are the values of the coefficients (b1, b2, b3, b4) ?", 
            "cell_type": "markdown", 
            "metadata": {}
        }, 
        {
            "source": "lm.coef_", 
            "cell_type": "code", 
            "metadata": {}, 
            "outputs": [
                {
                    "output_type": "execute_result", 
                    "data": {
                        "text/plain": "array([ 53.49574423,   4.70770099,  81.53026382,  36.05748882])"
                    }, 
                    "execution_count": 13, 
                    "metadata": {}
                }
            ], 
            "execution_count": 13
        }, 
        {
            "source": " What is the final estimated linear model that we get?", 
            "cell_type": "markdown", 
            "metadata": {}
        }, 
        {
            "source": "As we saw above, we should get a final linear function with the structure:\n\n \\begin{equation*}\nYhat = a + b_1 X_1 + b_2 X_2 + b_3 X_3 + b_4 X_4\n\\end{equation*}\n\nWhat is the linear function we get in this example?", 
            "cell_type": "markdown", 
            "metadata": {}
        }, 
        {
            "source": "**Price** = -15678.742628061467 + 52.65851272 x **horsepower** + 4.69878948 x **curb-weight** + 81.95906216 x **engine-size** + 33.58258185 x **highway-mpg**", 
            "cell_type": "markdown", 
            "metadata": {}
        }, 
        {
            "source": "<div class=\"alert alert-danger alertdanger\" style=\"margin-top: 20px\">\n<h1> Question  #2a): </h1>\nCreate and train a  Multiple Linear Regression model \"lm2\" where the response variable is price, and the predictor variable is  'normalized-losses' and  'highway-mpg'.\n<b> ?</b>\n</div>", 
            "cell_type": "markdown", 
            "metadata": {}
        }, 
        {
            "source": "", 
            "cell_type": "code", 
            "metadata": {}, 
            "outputs": [], 
            "execution_count": null
        }, 
        {
            "source": "Double-click __here__ for the solution.\n\n<!-- Your answer is below:\n\nlm2 = LinearRegression()\nlm2.fit(df[['normalized-losses' , 'highway-mpg']],df['price'])\n\n-->", 
            "cell_type": "markdown", 
            "metadata": {}
        }, 
        {
            "source": "<div class=\"alert alert-danger alertdanger\" style=\"margin-top: 20px\">\n<h1> Question  #2a): </h1>\n<b> Find the coefficient of the model?</b>\n</div>", 
            "cell_type": "markdown", 
            "metadata": {}
        }, 
        {
            "source": "Double-click __here__ for the solution.\n\n<!-- Your answer is below:\n\nlm2.coef_\n\n-->", 
            "cell_type": "markdown", 
            "metadata": {}
        }, 
        {
            "source": "### 2)  Model Evaluation using Visualization", 
            "cell_type": "markdown", 
            "metadata": {}
        }, 
        {
            "source": "Now that we've developed some models, how do we evaluate our models and how do we choose the best one? One way to do this is by using visualization.", 
            "cell_type": "markdown", 
            "metadata": {}
        }, 
        {
            "source": "import the visualization package: seaborn", 
            "cell_type": "markdown", 
            "metadata": {}
        }, 
        {
            "source": "# import the visualization package: seaborn\nimport seaborn as sns\n%matplotlib inline ", 
            "cell_type": "code", 
            "metadata": {}, 
            "outputs": [], 
            "execution_count": 14
        }, 
        {
            "source": "### Regression Plot", 
            "cell_type": "markdown", 
            "metadata": {}
        }, 
        {
            "source": "When it comes to simple linear regression, an excellent way to visualise the fit of our model is by using **regression plots**.\n\nThis plot will show a combination of a scattered data points (a **scatterplot**), as well as the fitted **linear regression** line going through the data. This will give us a reasonable estimate of the relationship between the two variables, the strength of the correlation, as well as the direction (positive or negative correlation).", 
            "cell_type": "markdown", 
            "metadata": {}
        }, 
        {
            "source": " Let's visualize Horsepower as potential predictor variable of price:", 
            "cell_type": "markdown", 
            "metadata": {}
        }, 
        {
            "source": "width = 12\nheight = 10\nplt.figure(figsize=(width, height))\nsns.regplot(x=\"highway-mpg\", y=\"price\", data=df)\nplt.ylim(0,)", 
            "cell_type": "code", 
            "metadata": {
                "scrolled": false
            }, 
            "outputs": [
                {
                    "output_type": "execute_result", 
                    "data": {
                        "text/plain": "(0, 48275.700663123876)"
                    }, 
                    "execution_count": 15, 
                    "metadata": {}
                }, 
                {
                    "output_type": "display_data", 
                    "data": {
                        "image/png": "[encoded data removed]", 
                        "text/plain": "<matplotlib.figure.Figure at 0x2b2f732a39e8>"
                    }, 
                    "metadata": {}
                }
            ], 
            "execution_count": 15
        }, 
        {
            "source": "We can see from this plot that price is negatively correlated to highway-mpg, since the regression slope is negative.\nOne thing to keep in mind when looking at a regression plot is to pay attention to how scattered the data points are around the regression line. This will give you a good indication of the variance of the data, and whether a linear model would be the best fit or not. If the data is too far off from the line, this linear model might not be the best model for this data. Let's compare this plot to the regression plot of \"peak-rpm\".", 
            "cell_type": "markdown", 
            "metadata": {}
        }, 
        {
            "source": "plt.figure(figsize=(width, height))\nsns.regplot(x=\"peak-rpm\", y=\"price\", data=df)\nplt.ylim(0,)", 
            "cell_type": "code", 
            "metadata": {}, 
            "outputs": [
                {
                    "output_type": "execute_result", 
                    "data": {
                        "text/plain": "(0, 47422.919330307624)"
                    }, 
                    "execution_count": 16, 
                    "metadata": {}
                }, 
                {
                    "output_type": "display_data", 
                    "data": {
                        "image/png": "[encoded data removed]", 
                        "text/plain": "<matplotlib.figure.Figure at 0x2b2f73321048>"
                    }, 
                    "metadata": {}
                }
            ], 
            "execution_count": 16
        }, 
        {
            "source": "Comparing the regression plot of \"peak-rpm\" and \"highway-mpg\" We see that the points for \"highway-mpg\" are much closer to the generated line and on the average decrease. The points for \"peak-rpm\"  have more spread around the predicted line, and it is much harder to determine if the points are decreasing or increasing as the  \"highway-mpg\"  increases.", 
            "cell_type": "markdown", 
            "metadata": {}
        }, 
        {
            "source": " <div class=\"alert alert-danger alertdanger\" style=\"margin-top: 20px\">\n<h1> Question  #3: </h1>\n<b> Given the regression plots above is \"peak-rpm\" or \"highway-mpg\"  more strongly correlated with \"price\". Use the method  \".corr()\"  to verify your answer. </b>\n</div>", 
            "cell_type": "markdown", 
            "metadata": {}
        }, 
        {
            "source": "", 
            "cell_type": "code", 
            "metadata": {}, 
            "outputs": [], 
            "execution_count": null
        }, 
        {
            "source": "Double-click __here__ for the solution.\n\n<!-- Your answer is below:\n\nThe variable \"peak-rpm\"  has a stronger correlation with \"price\", it is approximate -0.704692  compared to   \"highway-mpg\" which is approximate     -0.101616. You can verify it using the following command:\ndf[[\"peak-rpm\",\"highway-mpg\",\"price\"]].corr()\n\n-->", 
            "cell_type": "markdown", 
            "metadata": {}
        }, 
        {
            "source": "### Residual Plot\n\nA good way to visualize the variance of the data is to use a residual plot.\n\nWhat is a **residual**?\n\nThe difference between the observed value (y) and the predicted value (Yhat) is called the residual (e). When we look at a regression plot, the residual is the distance from the data point to the fitted regression line.\n\nSo what is a **residual plot**?\n\nA residual plot is a graph that shows the residuals on the vertical y-axis and the independent variable on the horizontal x-axis.\n\nWhat do we pay attention to when looking at a residual plot?\n\nWe look at the spread of the residuals:\n\n- If the points in a residual plot are **randomly spread out around the x-axis**, then a **linear model is appropriate** for the data. Why is that? Randomly spread out residuals means that the variance is constant, and thus the linear model is a good fit for this data.", 
            "cell_type": "markdown", 
            "metadata": {}
        }, 
        {
            "source": "width = 12\nheight = 10\nplt.figure(figsize=(width, height))\nsns.residplot(df['highway-mpg'], df['price'])\nplt.show()", 
            "cell_type": "code", 
            "metadata": {
                "scrolled": false
            }, 
            "outputs": [], 
            "execution_count": null
        }, 
        {
            "source": "*What is this plot telling us?*\n\nWe can see from this residual plot that the residuals are not randomly spread around the x-axis, which leads us to believe that maybe a non-linear model is more appropriate for this data.", 
            "cell_type": "markdown", 
            "metadata": {}
        }, 
        {
            "source": "###  Multiple Linear Regression", 
            "cell_type": "markdown", 
            "metadata": {}
        }, 
        {
            "source": "How do we visualise a model for Multiple Linear Regression? This gets a bit more complicated because you can't visualise it with regression or residual plot. \n\nOne way to look at the fit of the model is by looking at the **distribution plot**: We can look at the distribution of the fitted values that result from the model and compare it to the distribution of the actual values.", 
            "cell_type": "markdown", 
            "metadata": {}
        }, 
        {
            "source": " First lets make a prediction ", 
            "cell_type": "markdown", 
            "metadata": {}
        }, 
        {
            "source": "Y_hat = lm.predict(Z)", 
            "cell_type": "code", 
            "metadata": {}, 
            "outputs": [], 
            "execution_count": null
        }, 
        {
            "source": "plt.figure(figsize=(width, height))\n\n\nax1 = sns.distplot(df['price'], hist=False, color=\"r\", label=\"Actual Value\")\nsns.distplot(Yhat, hist=False, color=\"b\", label=\"Fitted Values\" , ax=ax1)\n\n\nplt.title('Actual vs Fitted Values for Price')\nplt.xlabel('Price (in dollars)')\nplt.ylabel('Proportion of Cars')\n\nplt.show()\nplt.close()", 
            "cell_type": "code", 
            "metadata": {
                "scrolled": false
            }, 
            "outputs": [], 
            "execution_count": null
        }, 
        {
            "source": "We can see that the fitted values are reasonably close to the actual values, since the two distributions overlap a bit. However, there is definitely some room for improvement.", 
            "cell_type": "markdown", 
            "metadata": {}
        }, 
        {
            "source": "## Part 3: Polynomial Regression and Pipelines ", 
            "cell_type": "markdown", 
            "metadata": {}
        }, 
        {
            "source": "**Polynomial regression** is a particular case of the general linear regression model or multiple linear regression models. \nWe get non-linear relationships by squaring or setting higher-order terms of the predictor variables.\n\nThere are different orders of polynomial regression:", 
            "cell_type": "markdown", 
            "metadata": {}
        }, 
        {
            "source": "<center>**Quadratic - 2nd order**</center>\n\n\n \\begin{equation*}\nYhat = a + b_1 X^2 +b_2 X^2 \n\\\\\n\\end{equation*}\n\n\n <center>**Cubic - 3rd order**</center>\n \n \n \\begin{equation*}\nYhat = a + b_1 X^2 +b_2 X^2 +b_3 X^3\\\\\n\\end{equation*}\n\n<center> **Higher order**:</center>\n\n\n \\begin{equation*}\nY = a + b_1 X^2 +b_2 X^2 +b_3 X^3 ....\\\\\n\\end{equation*}", 
            "cell_type": "markdown", 
            "metadata": {}
        }, 
        {
            "source": "We saw earlier that a linear model did not provide the best fit while using highway-mpg as the predictor variable. Let's see if we can try fitting a polynomial model to the data instead.", 
            "cell_type": "markdown", 
            "metadata": {}
        }, 
        {
            "source": " We will use the following function to plot the data:", 
            "cell_type": "markdown", 
            "metadata": {}
        }, 
        {
            "source": "def PlotPolly(model,independent_variable,dependent_variabble, Name):\n    x_new = np.linspace(15, 55, 100)\n    y_new = model(x_new)\n\n    plt.plot(independent_variable,dependent_variabble,'.', x_new, y_new, '-')\n    plt.title('Polynomial Fit with Matplotlib for Price ~ Length')\n    ax = plt.gca()\n    ax.set_axis_bgcolor((0.898, 0.898, 0.898))\n    fig = plt.gcf()\n    plt.xlabel(Name)\n    plt.ylabel('Price of Cars')\n\n    plt.show()\n    plt.close()\n    \nprint(\"done\")", 
            "cell_type": "code", 
            "metadata": {}, 
            "outputs": [], 
            "execution_count": null
        }, 
        {
            "source": "lets get the variables  ", 
            "cell_type": "markdown", 
            "metadata": {}
        }, 
        {
            "source": "x = df['highway-mpg']\ny = df['price']\nprint(\"done\")", 
            "cell_type": "code", 
            "metadata": {}, 
            "outputs": [], 
            "execution_count": null
        }, 
        {
            "source": "Let's fit the polynomial using the function **polyfit**, then use the function **poly1d** to display the polynomial function.", 
            "cell_type": "markdown", 
            "metadata": {}
        }, 
        {
            "source": "# Here we use a polynomial of the 3rd order (cubic) \nf = np.polyfit(x, y, 3)\np = np.poly1d(f)\nprint(p)", 
            "cell_type": "code", 
            "metadata": {}, 
            "outputs": [], 
            "execution_count": null
        }, 
        {
            "source": " Let's plot the function ", 
            "cell_type": "markdown", 
            "metadata": {}
        }, 
        {
            "source": "PlotPolly(p,x,y, 'highway-mpg')", 
            "cell_type": "code", 
            "metadata": {}, 
            "outputs": [], 
            "execution_count": null
        }, 
        {
            "source": "np.polyfit(x, y, 3)", 
            "cell_type": "code", 
            "metadata": {}, 
            "outputs": [], 
            "execution_count": null
        }, 
        {
            "source": "We can already see from plotting that this polynomial model performs better than the linear model. This is because the generated polynomial function  \"hits\" more of the data points.", 
            "cell_type": "markdown", 
            "metadata": {}
        }, 
        {
            "source": "<div class=\"alert alert-danger alertdanger\" style=\"margin-top: 20px\">\n<h1> Question  #4: </h1>\n<b> Create  11 order polynomial model with the variables x and y from above?  </b>\n</div>", 
            "cell_type": "markdown", 
            "metadata": {}
        }, 
        {
            "source": "", 
            "cell_type": "code", 
            "metadata": {
                "collapsed": true
            }, 
            "outputs": [], 
            "execution_count": null
        }, 
        {
            "source": "Double-click __here__ for the solution.\n\n<!-- Your answer is below:\n\n# calculate polynomial\n# Here we use a polynomial of the 3rd order (cubic) \nf1 = np.polyfit(x, y, 11)\np1 = np.poly1d(f1)\nprint(p)\nPlotPolly(p1,x,y, 'Length')\n\n-->", 
            "cell_type": "markdown", 
            "metadata": {}
        }, 
        {
            "source": "The analytical expression for Multivariate Polynomial function gets complicated. For example, the expression for a second-order (degree=2)polynomial with two variables is given by:", 
            "cell_type": "markdown", 
            "metadata": {}
        }, 
        {
            "source": "\\begin{equation*}\nYhat = a + b_1 X_1 +b_2 X_2 +b_3 X_1 X_2+b_4 X_1^2+b_5 X_2^2\n\\end{equation*}", 
            "cell_type": "markdown", 
            "metadata": {}
        }, 
        {
            "source": " We can perform a polynomial transform on multiple features. First, we import the  module:", 
            "cell_type": "markdown", 
            "metadata": {}
        }, 
        {
            "source": "from sklearn.preprocessing import PolynomialFeatures", 
            "cell_type": "code", 
            "metadata": {
                "collapsed": true
            }, 
            "outputs": [], 
            "execution_count": null
        }, 
        {
            "source": "We create a **PolynomialFeatures** object of degree 2: ", 
            "cell_type": "markdown", 
            "metadata": {}
        }, 
        {
            "source": "pr=PolynomialFeatures(degree=2)\npr", 
            "cell_type": "code", 
            "metadata": {}, 
            "outputs": [], 
            "execution_count": null
        }, 
        {
            "source": "Z_pr=pr.fit_transform(Z)", 
            "cell_type": "code", 
            "metadata": {
                "collapsed": true
            }, 
            "outputs": [], 
            "execution_count": null
        }, 
        {
            "source": "The original data is of 201 samples and 4 features ", 
            "cell_type": "markdown", 
            "metadata": {}
        }, 
        {
            "source": "Z.shape", 
            "cell_type": "code", 
            "metadata": {}, 
            "outputs": [], 
            "execution_count": null
        }, 
        {
            "source": "after the transformation, there 201 samples and 15 features", 
            "cell_type": "markdown", 
            "metadata": {}
        }, 
        {
            "source": "Z_pr.shape", 
            "cell_type": "code", 
            "metadata": {}, 
            "outputs": [], 
            "execution_count": null
        }, 
        {
            "source": "## Pipeline ", 
            "cell_type": "markdown", 
            "metadata": {}
        }, 
        {
            "source": "Data Pipelines simplify the steps of processing the data. We use the module  **Pipeline** to create a pipeline. We also use **StandardScaler** as a step in our pipeline.", 
            "cell_type": "markdown", 
            "metadata": {}
        }, 
        {
            "source": "from sklearn.pipeline import Pipeline\nfrom sklearn.preprocessing import StandardScaler", 
            "cell_type": "code", 
            "metadata": {
                "collapsed": true
            }, 
            "outputs": [], 
            "execution_count": null
        }, 
        {
            "source": "We create the pipeline, by creating a list of tuples including the name of the model or estimator and its corresponding constructor. ", 
            "cell_type": "markdown", 
            "metadata": {}
        }, 
        {
            "source": "Input=[('scale',StandardScaler()),('polynomial', PolynomialFeatures(include_bias=False)),('model',LinearRegression())]", 
            "cell_type": "code", 
            "metadata": {}, 
            "outputs": [], 
            "execution_count": null
        }, 
        {
            "source": "we input the list as an argument to the pipeline constructor ", 
            "cell_type": "markdown", 
            "metadata": {}
        }, 
        {
            "source": "pipe=Pipeline(Input)\npipe", 
            "cell_type": "code", 
            "metadata": {}, 
            "outputs": [], 
            "execution_count": null
        }, 
        {
            "source": "We can normalize the data,  perform a transform and fit the model simultaneously. ", 
            "cell_type": "markdown", 
            "metadata": {}
        }, 
        {
            "source": "pipe.fit(Z,y)", 
            "cell_type": "code", 
            "metadata": {}, 
            "outputs": [], 
            "execution_count": null
        }, 
        {
            "source": " Similarly,  we can normalize the data, perform a transform and produce a prediction  simultaneously", 
            "cell_type": "markdown", 
            "metadata": {}
        }, 
        {
            "source": "ypipe=pipe.predict(Z)\nypipe[0:4]", 
            "cell_type": "code", 
            "metadata": {}, 
            "outputs": [], 
            "execution_count": null
        }, 
        {
            "source": "<div class=\"alert alert-danger alertdanger\" style=\"margin-top: 20px\">\n<h1> Question  #5: </h1>\n<b>  Create a pipeline that Standardizes the data, then perform prediction using a linear regression model using the features Z and targets y  </b>\n</div>", 
            "cell_type": "markdown", 
            "metadata": {}
        }, 
        {
            "source": "Double-click __here__ for the solution.\n\n<!-- Your answer is below:\n\nInput=[('scale',StandardScaler()),('model',LinearRegression())]\n\npipe=Pipeline(Input)\n\npipe.fit(Z,y)\n\nypipe=pipe.predict(Z)\nypipe[0:10]\n\n-->", 
            "cell_type": "markdown", 
            "metadata": {}
        }, 
        {
            "source": "## Part 4: Measures for In-Sample Evaluation", 
            "cell_type": "markdown", 
            "metadata": {}
        }, 
        {
            "source": "When evaluating our models, not only do we want to visualise the results, but we also want a quantitative measure to determine how accurate the model is.\n\nTwo very important measures that are often used in Statistics to determine the accuracy of a model are:\n\n- **R^2 / R-squared**\n- **Mean Squared Error (MSE)**\n\n**R-squared**\n\nR squared, also known as the coefficient of determination, is a measure to indicate how close the data is to the fitted regression line.\nThe value of the R-squared is the percentage of variation of the response variable (y) that is explained by a linear model.\n\n\n\n**Mean Squared Error (MSE)**\n\nThe Mean Squared Error measures the average of the squares of errors, that is, the difference between actual value (y) and the estimated value (\u0177).", 
            "cell_type": "markdown", 
            "metadata": {}
        }, 
        {
            "source": "### Model 1: Simple Linear Regression", 
            "cell_type": "markdown", 
            "metadata": {}
        }, 
        {
            "source": "Let's calculate the R^2", 
            "cell_type": "markdown", 
            "metadata": {}
        }, 
        {
            "source": "#highway_mpg_fit\nlm.fit(X, Y)\n# Find the R^2\nlm.score(X, Y)", 
            "cell_type": "code", 
            "metadata": {
                "scrolled": true
            }, 
            "outputs": [], 
            "execution_count": null
        }, 
        {
            "source": "We can say that ~ 49.659% of the variation of the price is explained by this simple linear model \"horsepower_fit\".", 
            "cell_type": "markdown", 
            "metadata": {}
        }, 
        {
            "source": "Let's calculate the MSE", 
            "cell_type": "markdown", 
            "metadata": {}
        }, 
        {
            "source": "We can predict the output i.e., \"yhat\" using the predict method, where X is the input variable:", 
            "cell_type": "markdown", 
            "metadata": {}
        }, 
        {
            "source": "Yhat=lm.predict(X)\nYhat[0:4]", 
            "cell_type": "code", 
            "metadata": {}, 
            "outputs": [], 
            "execution_count": null
        }, 
        {
            "source": " lets import the function **mean_squared_error** from the module **metrics**", 
            "cell_type": "markdown", 
            "metadata": {}
        }, 
        {
            "source": "from sklearn.metrics import mean_squared_error", 
            "cell_type": "code", 
            "metadata": {
                "collapsed": true
            }, 
            "outputs": [], 
            "execution_count": null
        }, 
        {
            "source": " we compare the predicted results with the actual results ", 
            "cell_type": "markdown", 
            "metadata": {}
        }, 
        {
            "source": "#mean_squared_error(Y_true, Y_predict)\nmean_squared_error(df['price'], Yhat)", 
            "cell_type": "code", 
            "metadata": {}, 
            "outputs": [], 
            "execution_count": null
        }, 
        {
            "source": "### Model 2: Multiple Linear Regression", 
            "cell_type": "markdown", 
            "metadata": {}
        }, 
        {
            "source": "Let's calculate the R^2", 
            "cell_type": "markdown", 
            "metadata": {}
        }, 
        {
            "source": "# fit the model \nlm.fit(Z, df['price'])\n# Find the R^2\nlm.score(Z, df['price'])", 
            "cell_type": "code", 
            "metadata": {}, 
            "outputs": [], 
            "execution_count": null
        }, 
        {
            "source": "We can say that ~ 80.896 % of the variation of price is explained by this multiple linear regression \"multi_fit\".", 
            "cell_type": "markdown", 
            "metadata": {}
        }, 
        {
            "source": "Let's calculate the MSE", 
            "cell_type": "markdown", 
            "metadata": {}
        }, 
        {
            "source": " we produce a prediction ", 
            "cell_type": "markdown", 
            "metadata": {}
        }, 
        {
            "source": "Y_predict_multifit = lm.predict(Z)\n", 
            "cell_type": "code", 
            "metadata": {}, 
            "outputs": [], 
            "execution_count": null
        }, 
        {
            "source": " we compare the predicted results with the actual results ", 
            "cell_type": "markdown", 
            "metadata": {}
        }, 
        {
            "source": "mean_squared_error(df['price'], Y_predict_multifit)", 
            "cell_type": "code", 
            "metadata": {}, 
            "outputs": [], 
            "execution_count": null
        }, 
        {
            "source": "### Model 3: Polynomial Fit", 
            "cell_type": "markdown", 
            "metadata": {}
        }, 
        {
            "source": "Let's calculate the R^2", 
            "cell_type": "markdown", 
            "metadata": {}
        }, 
        {
            "source": " let\u2019s import the function **r2_score** from the module ** metrics** as we are using a different function  \n", 
            "cell_type": "markdown", 
            "metadata": {}
        }, 
        {
            "source": "from sklearn.metrics import r2_score", 
            "cell_type": "code", 
            "metadata": {
                "collapsed": true
            }, 
            "outputs": [], 
            "execution_count": null
        }, 
        {
            "source": "We apply the function to get the value of r^2", 
            "cell_type": "markdown", 
            "metadata": {}
        }, 
        {
            "source": "r_squared = r2_score(y, p(x))\nr_squared", 
            "cell_type": "code", 
            "metadata": {}, 
            "outputs": [], 
            "execution_count": null
        }, 
        {
            "source": "We can say that ~ 67.419 % of the variation of price is explained by this polynomial fit", 
            "cell_type": "markdown", 
            "metadata": {}
        }, 
        {
            "source": "### MSE", 
            "cell_type": "markdown", 
            "metadata": {}
        }, 
        {
            "source": " We can also calculate the MSE:  ", 
            "cell_type": "markdown", 
            "metadata": {}
        }, 
        {
            "source": "mean_squared_error(df['price'], p(x))", 
            "cell_type": "code", 
            "metadata": {}, 
            "outputs": [], 
            "execution_count": null
        }, 
        {
            "source": "## Part 5: Prediction and Decision Making\n### Prediction\n\nIn the previous section, we trained the model using the method **fit**. Now we will use the method **predict** to produce a prediction.Lets import **pyplot** for plotting; we will also be using some functions from numpy. \n \n", 
            "cell_type": "markdown", 
            "metadata": {}
        }, 
        {
            "source": "import matplotlib.pyplot as plt\nimport numpy as np\n\n%matplotlib inline ", 
            "cell_type": "code", 
            "metadata": {
                "collapsed": true
            }, 
            "outputs": [], 
            "execution_count": null
        }, 
        {
            "source": "Create a  new input ", 
            "cell_type": "markdown", 
            "metadata": {}
        }, 
        {
            "source": "new_input=np.arange(1,100,1).reshape(-1,1)", 
            "cell_type": "code", 
            "metadata": {}, 
            "outputs": [], 
            "execution_count": null
        }, 
        {
            "source": " Fit the model ", 
            "cell_type": "markdown", 
            "metadata": {}
        }, 
        {
            "source": "lm.fit(X, Y)\nlm", 
            "cell_type": "code", 
            "metadata": {}, 
            "outputs": [], 
            "execution_count": null
        }, 
        {
            "source": "Produce a prediction ", 
            "cell_type": "markdown", 
            "metadata": {}
        }, 
        {
            "source": "yhat=lm.predict(new_input)\nyhat[0:5]", 
            "cell_type": "code", 
            "metadata": {}, 
            "outputs": [], 
            "execution_count": null
        }, 
        {
            "source": "we can plot the data ", 
            "cell_type": "markdown", 
            "metadata": {}
        }, 
        {
            "source": "plt.plot(new_input,yhat)\nplt.show()", 
            "cell_type": "code", 
            "metadata": {}, 
            "outputs": [], 
            "execution_count": null
        }, 
        {
            "source": "### Decision Making: Determining a Good Model Fit", 
            "cell_type": "markdown", 
            "metadata": {}
        }, 
        {
            "source": "Now that we have visualized the different models, and generated the R-squared and MSE values for the fits, how do we determine a good model fit?\n\n- *What is a good R-squared value?*\n\nWhen comparing models, **the model with the higher R-squared value is a better fit** for the data.\n\n\n- *What is a good MSE?*\n\nWhen comparing models, **the model with the smallest MSE value is a better fit** for the data.#### Let's take a look at the values for the different models we get.\n\n#### Let's take a look at the values for the different models.\nSimple Linear Regression: Using Highway-mpg as a Predictor Variable of Price.\n- R-squared: 0.49659118843391759\n- MSE: 3.16 x10^7\n\nMultiple Linear Regression: Using Horsepower, Curb-weight, Engine-size, and Highway-mpg as Predictor Variables of Price.\n- R-squared: 0.80896354913783497\n- MSE: 1.2 x10^7\n\nPolynomial Fit: Using Highway-mpg as a Predictor Variable of Price.\n- R-squared: 0.6741946663906514\n- MSE: 2.05 x 10^7", 
            "cell_type": "markdown", 
            "metadata": {}
        }, 
        {
            "source": "### Simple Linear Regression model (SLR) vs Multiple Linear Regression model (MLR)", 
            "cell_type": "markdown", 
            "metadata": {}
        }, 
        {
            "source": "Usually, the more variables you have, the better your model is at predicting, but this is not always true. Sometimes you may not have enough data, you may run into numerical problems, or many of the variables may not be useful and or even act as noise. As a result, you should always check the MSE and R^2. \n\nSo to be able to compare the results of the MLR vs SLR models, we look at a combination of both the R-squared and MSE to make the best conclusion about the fit of the model.\n \n\n- **MSE ** \nThe MSE of SLR is  3.16x10^7  while MLR has an MSE of 1.2 x10^7.  The MSE of MLR is much smaller. \n\n\n- **R-squared**: \nIn this case, we can also see that there is a big difference between the R-squared of the SLR and the R-squared of the MLR. The R-squared for the SLR (~0.497) is very small compared to the R-squared for the MLR (~0.809). \n\nThis R-squared in combination with the MSE show that MLR seems like the better model fit in this case, compared to SLR.", 
            "cell_type": "markdown", 
            "metadata": {}
        }, 
        {
            "source": "### Simple Linear Model (SLR) vs Polynomial Fit", 
            "cell_type": "markdown", 
            "metadata": {}
        }, 
        {
            "source": "- **MSE**: We can see that Polynomial Fit brought down the MSE, since this MSE is smaller than the one from the SLR. \n\n- **R-squared**: The R-squared for the Polyfit is larger than the R-squared for the SLR, so the Polynomial Fit also brought up the R-squared quite a bit.\n\nSince the Polynomial Fit resulted in a lower MSE and a higher R-squared, we can conclude that this was a better fit model than the simple linear regression for predicting Price with Highway-mpg as a predictor variable.", 
            "cell_type": "markdown", 
            "metadata": {}
        }, 
        {
            "source": "### Multiple Linear Regression (MLR) vs Polynomial Fit", 
            "cell_type": "markdown", 
            "metadata": {}
        }, 
        {
            "source": "- **MSE**: The MSE for the MLR is smaller than the MSE for the Polynomial Fit.\n- **R-squared**: The R-squared for the MLR is also much larger than for the Polynomial Fit.", 
            "cell_type": "markdown", 
            "metadata": {}
        }, 
        {
            "source": "## Conclusion: ", 
            "cell_type": "markdown", 
            "metadata": {}
        }, 
        {
            "source": "Comparing these three models, we conclude that **the MLR model is the best model** to be able to predict price from our dataset. This result makes sense, since we have 27 variables in total, and we know that more than one of those variables are potential predictors of the final car price. ", 
            "cell_type": "markdown", 
            "metadata": {}
        }, 
        {
            "source": "### About the Authors:  \n\nThis notebook written by [Mahdi Noorian PhD](https://www.linkedin.com/in/mahdi-noorian-58219234/) ,[Joseph Santarcangelo PhD]( https://www.linkedin.com/in/joseph-s-50398b136/), Bahare Talayian, Eric Xiao, Steven Dong, Parizad , Hima Vsudevan and [Fiorella Wenver](https://www.linkedin.com/in/fiorellawever/).\nCopyright &copy; 2017 [cognitiveclass.ai](cognitiveclass.ai?utm_source=bducopyrightlink&utm_medium=dswb&utm_campaign=bdu). This notebook and its source code are released under the terms of the [MIT License](https://bigdatauniversity.com/mit-license/).", 
            "cell_type": "markdown", 
            "metadata": {}
        }, 
        {
            "source": "\n <a href=\"http://cocl.us/DA0101EN_NotbookLink_bottom\"><img src = \"https://ibm.box.com/shared/static/cy2mwm7519t4z6dxefjpzgtbpi9p8l7h.png\" width = 750, align = \"center\"></a>\n", 
            "cell_type": "markdown", 
            "metadata": {}
        }, 
        {
            "source": "", 
            "cell_type": "code", 
            "metadata": {
                "collapsed": true
            }, 
            "outputs": [], 
            "execution_count": null
        }
    ], 
    "metadata": {
        "kernelspec": {
            "display_name": "Python 3.5", 
            "name": "python3", 
            "language": "python"
        }, 
        "language_info": {
            "mimetype": "text/x-python", 
            "nbconvert_exporter": "python", 
            "version": "3.5.4", 
            "name": "python", 
            "file_extension": ".py", 
            "pygments_lexer": "ipython3", 
            "codemirror_mode": {
                "version": 3, 
                "name": "ipython"
            }
        }
    }, 
    "nbformat": 4
}